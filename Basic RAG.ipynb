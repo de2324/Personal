{
 "cells": [
  {
   "cell_type": "code",
   "execution_count": 2,
   "id": "239726b5",
   "metadata": {},
   "outputs": [],
   "source": [
    "import openai\n",
    "import pinecone\n",
    "\n",
    "\n",
    "from langchain_openai.chat_models import ChatOpenAI\n",
    "from langchain_core.output_parsers import StrOutputParser\n",
    "from langchain_community.document_loaders import TextLoader\n",
    "from langchain.text_splitter import RecursiveCharacterTextSplitter\n",
    "from langchain_openai.embeddings import OpenAIEmbeddings\n",
    "from langchain.prompts import ChatPromptTemplate\n",
    "from langchain_pinecone import PineconeVectorStore\n",
    "from langchain_core.runnables import RunnableParallel, RunnablePassthrough\n",
    "from langchain.memory import ConversationBufferMemory\n",
    "from langchain.chains import ConversationChain\n",
    "from langchain.chains import RetrievalQA\n",
    "from langchain.chains import ConversationalRetrievalChain\n",
    "\n",
    "from pinecone import Pinecone, ServerlessSpec"
   ]
  },
  {
   "cell_type": "markdown",
   "id": "8f14daa4",
   "metadata": {},
   "source": [
    "# Setting Up "
   ]
  },
  {
   "cell_type": "code",
   "execution_count": 4,
   "id": "a39406dc",
   "metadata": {},
   "outputs": [],
   "source": [
    "#loading environment variables \n",
    "load_dotenv(\"api.env\")\n",
    "\n",
    "OPENAI_API_KEY = os.getenv(\"OPENAI_API_KEY\")\n",
    "PINECONE_API_KEY = os.getenv(\"PINECONE_API_KEY\")\n",
    "PINECONE_API_ENV = os.getenv('PINECONE_API_ENV')"
   ]
  },
  {
   "cell_type": "code",
   "execution_count": 5,
   "id": "aa420607",
   "metadata": {},
   "outputs": [],
   "source": [
    "#Set model \n",
    "model = ChatOpenAI(openai_api_key=OPENAI_API_KEY, model=\"gpt-3.5-turbo\", temperature=0)"
   ]
  },
  {
   "cell_type": "markdown",
   "id": "64cb9cb0",
   "metadata": {},
   "source": [
    "# Loading and Splitting Data"
   ]
  },
  {
   "cell_type": "code",
   "execution_count": 6,
   "id": "06364f56",
   "metadata": {},
   "outputs": [],
   "source": [
    "#Load master_pcos txt file \n",
    "loader = TextLoader(\"Guidelines (txt)/master_pcos.txt\")\n",
    "data = loader.load()\n",
    "\n",
    "#Split document into chunks, put into documents variable\n",
    "text_splitter = RecursiveCharacterTextSplitter(chunk_size=2000, chunk_overlap=200)\n",
    "master_documents = text_splitter.split_documents(data)"
   ]
  },
  {
   "cell_type": "code",
   "execution_count": 7,
   "id": "af736e05",
   "metadata": {},
   "outputs": [
    {
     "data": {
      "text/plain": [
       "219"
      ]
     },
     "execution_count": 7,
     "metadata": {},
     "output_type": "execute_result"
    }
   ],
   "source": [
    "len(master_documents)"
   ]
  },
  {
   "cell_type": "code",
   "execution_count": 8,
   "id": "588986ac",
   "metadata": {},
   "outputs": [],
   "source": [
    "#Embeddings\n",
    "embeddings = OpenAIEmbeddings(model=\"text-embedding-3-small\", openai_api_key=OPENAI_API_KEY)"
   ]
  },
  {
   "cell_type": "markdown",
   "id": "b7fef483",
   "metadata": {},
   "source": [
    "# Vector Store"
   ]
  },
  {
   "cell_type": "code",
   "execution_count": 14,
   "id": "9125da66",
   "metadata": {},
   "outputs": [],
   "source": [
    "index_name = \"basic\"\n",
    "\n",
    "#Commented out so that master_docs isn't loaded into vector store multiple times\n",
    "pinecone = PineconeVectorStore.from_documents(master_documents, embeddings, index_name=index_name)"
   ]
  },
  {
   "cell_type": "markdown",
   "id": "0fcc3ddb",
   "metadata": {},
   "source": [
    "# RetrievalQA"
   ]
  },
  {
   "cell_type": "markdown",
   "id": "efc9e843",
   "metadata": {},
   "source": [
    "**No memory of previous conversation**\n",
    "\n",
    "types of chains: https://ogre51.medium.com/types-of-chains-in-langchain-823c8878c2e9\n",
    "\n",
    "**\"stuff\" chain type used** -> to save cost, otherwise would need to use a lot of tokens -> especially problematic once we start scaling! "
   ]
  },
  {
   "cell_type": "code",
   "execution_count": 15,
   "id": "2078dc4c",
   "metadata": {
    "scrolled": true
   },
   "outputs": [],
   "source": [
    "#Define retriever and QA chain \n",
    "retriever = pinecone.as_retriever()\n",
    "\n",
    "qa = RetrievalQA.from_chain_type(\n",
    "    llm=model, \n",
    "    chain_type=\"stuff\", \n",
    "    retriever=retriever, \n",
    "    return_source_documents=False\n",
    ")"
   ]
  },
  {
   "cell_type": "code",
   "execution_count": 16,
   "id": "c0b71dd5",
   "metadata": {},
   "outputs": [],
   "source": [
    "#Defining function for user to ask LLM question \n",
    "def ask_question():\n",
    "    # Prompt the user to input a question\n",
    "    user_question = input(\"Ask a PCOS-related question: \")\n",
    "    result = qa({\"query\": user_question})\n",
    "    print(\"Answer:\", result['result'])"
   ]
  },
  {
   "cell_type": "code",
   "execution_count": 17,
   "id": "82d98614",
   "metadata": {
    "scrolled": true
   },
   "outputs": [
    {
     "name": "stdout",
     "output_type": "stream",
     "text": [
      "Ask a PCOS-related question: At what age range can androgen levels in adolescents be expected to reach adult ranges for PCOS assessment?\n"
     ]
    },
    {
     "name": "stderr",
     "output_type": "stream",
     "text": [
      "/Users/Misa/anaconda3/lib/python3.11/site-packages/langchain_core/_api/deprecation.py:119: LangChainDeprecationWarning: The method `Chain.__call__` was deprecated in langchain 0.1.0 and will be removed in 0.2.0. Use invoke instead.\n",
      "  warn_deprecated(\n"
     ]
    },
    {
     "name": "stdout",
     "output_type": "stream",
     "text": [
      "Answer: Androgen levels in adolescents can be expected to reach adult ranges typically between 12-15 years of age.\n"
     ]
    }
   ],
   "source": [
    "ask_question()"
   ]
  },
  {
   "cell_type": "markdown",
   "id": "ae8b49f3",
   "metadata": {},
   "source": [
    "# Conversational Chain"
   ]
  },
  {
   "cell_type": "markdown",
   "id": "967a1296",
   "metadata": {},
   "source": [
    "**QA Chain + Conversation Memory**"
   ]
  },
  {
   "cell_type": "code",
   "execution_count": 18,
   "id": "6aef5bf7",
   "metadata": {},
   "outputs": [],
   "source": [
    "qa_memory = ConversationalRetrievalChain.from_llm(\n",
    "    llm=model, \n",
    "    chain_type=\"stuff\", \n",
    "    retriever=retriever, \n",
    "    return_source_documents=False\n",
    ")"
   ]
  },
  {
   "cell_type": "code",
   "execution_count": 19,
   "id": "2c138591",
   "metadata": {},
   "outputs": [],
   "source": [
    "def interactive_qa_session():\n",
    "    print(\"Welcome to the PCOS Information Assistant. Type 'exit' to quit.\")\n",
    "    chat_history = []  # Initialize chat history\n",
    "\n",
    "    while True:\n",
    "        query = input(\"Ask a question about PCOS: \")\n",
    "        if query.lower() == 'exit':\n",
    "            print(\"Exiting the PCOS Information Assistant. Thank you!\")\n",
    "            break\n",
    "\n",
    "        # Pass the question and the chat history to the ConversationalRetrievalChain\n",
    "        result = qa_memory({\"question\": query, \"chat_history\": chat_history})\n",
    "        print(\"Answer:\", result['answer'])\n",
    "        # Update chat history with the current query and answer\n",
    "        chat_history.append((query, result['answer']))"
   ]
  },
  {
   "cell_type": "code",
   "execution_count": 20,
   "id": "3b8c5959",
   "metadata": {},
   "outputs": [
    {
     "name": "stdout",
     "output_type": "stream",
     "text": [
      "Welcome to the PCOS Information Assistant. Type 'exit' to quit.\n",
      "Ask a question about PCOS: Discuss the role of cardiovascular disease risk assessment in the management of PCOS.\n",
      "Answer: Cardiovascular disease risk assessment plays a crucial role in the management of Polycystic Ovary Syndrome (PCOS). Women with PCOS are considered to be at an increased risk of cardiovascular disease and potentially cardiovascular mortality. Therefore, it is recommended that all women with PCOS should be assessed for cardiovascular disease risk factors. This includes having a lipid profile (cholesterol, LDL, HDL, and triglyceride levels) at the time of diagnosis, with subsequent measurements based on the presence of hyperlipidemia and additional risk factors.\n",
      "\n",
      "Regular monitoring of blood pressure is also essential for women with PCOS, especially when planning pregnancy or seeking fertility treatment, due to the high risk of hypertensive disorders in pregnancy. Additionally, healthcare professionals should prioritize preventative strategies to reduce cardiovascular risk in women with PCOS.\n",
      "\n",
      "Considering the differences in cardiovascular risk factors across ethnicities and age, it is important to tailor the frequency of risk assessment accordingly. With the evidence showing higher cardiovascular surrogate markers and increased risk of cardiovascular events in women with PCOS, the inclusion of PCOS as a cardiovascular risk factor in general population guidelines could be considered. Overall, the assessment of cardiovascular risk factors is crucial in the management of PCOS to mitigate the increased risk of cardiovascular disease in affected individuals.\n",
      "Ask a question about PCOS: What are the implications of anti-Mullerian hormone (AMH) levels in the diagnosis of PCOS in adults?\n",
      "Answer: The implications of anti-Mullerian hormone (AMH) levels in the diagnosis of PCOS in adults are that AMH could be used for defining polycystic ovarian morphology (PCOM) in adults. However, it is recommended that serum AMH should not be used as a single test for the diagnosis of PCOS. It should be used in accordance with the diagnostic algorithm, and either serum AMH or ultrasound may be used to define PCOM, but both tests should not be performed together to limit overdiagnosis. Additionally, laboratories involved in AMH measurements should use population and assay-specific cut-offs to interpret the results accurately.\n",
      "Ask a question about PCOS: What are the potential impacts of early life environmental exposures (e.g., endocrine disruptors) on the onset and progression of PCOS symptoms throughout life stages?\n",
      "Answer: I don't have information on the potential impacts of early life environmental exposures, such as endocrine disruptors, on the onset and progression of PCOS symptoms throughout life stages.\n",
      "Ask a question about PCOS: What are the long-term risks associated with untreated PCOS beyond reproductive health issues?\n",
      "Answer: Long-term risks associated with untreated PCOS beyond reproductive health issues include an increased risk of cardiovascular disease (CVD) due to metabolic disturbances, high BMI, and other factors associated with PCOS. Additionally, there may be a higher risk of adverse pregnancy outcomes, such as miscarriage and complications during pregnancy. It is important for individuals with PCOS to manage their condition to reduce these long-term health risks.\n",
      "Ask a question about PCOS: Is there a potential for non-invasive imaging technologies to replace current diagnostic criteria involving hormonal assessments and ultrasounds in the future?\n",
      "Answer: Based on the provided context, it is not explicitly stated whether non-invasive imaging technologies could potentially replace current diagnostic criteria involving hormonal assessments and ultrasounds in the future. The text emphasizes the importance of ultrasound in diagnosing PCOS, especially in cases where patients have only one diagnostic feature. It also highlights the challenges and controversies surrounding the assessment of biochemical hyperandrogenism. Therefore, while advancements in technology may improve the reliability of assessing and reporting ovarian morphology, it is not definitively stated that non-invasive imaging technologies could replace current diagnostic criteria involving hormonal assessments and ultrasounds in the future.\n",
      "Ask a question about PCOS: How could continuous monitoring technologies (like wearable devices) impact the future of risk assessment and early diagnosis of PCOS in various life stages?\n",
      "Answer: Continuous monitoring technologies like wearable devices have the potential to revolutionize the risk assessment and early diagnosis of PCOS in various life stages. These devices can track key parameters such as menstrual cycles, heart rate variability, sleep patterns, and activity levels, providing valuable data for identifying irregularities that may indicate PCOS. By continuously monitoring these metrics, wearable devices can help detect early signs of ovulatory dysfunction, hormonal imbalances, and other symptoms associated with PCOS.\n",
      "\n",
      "In younger women, wearable devices can track menstrual irregularities and hormonal fluctuations, aiding in the early diagnosis of PCOS during the pubertal transition. For women in reproductive age, these devices can help monitor ovulatory function and identify patterns that may suggest PCOS. In postmenopausal women, wearable devices can assist in tracking symptoms like hyperandrogenism and metabolic changes that are still relevant to PCOS diagnosis and management.\n",
      "\n",
      "Overall, continuous monitoring technologies have the potential to provide a more comprehensive and real-time assessment of PCOS risk factors across different life stages, enabling earlier detection, personalized interventions, and improved outcomes for individuals with PCOS.\n",
      "Ask a question about PCOS: Are there any specific proteomic or metabolomic profiles that could redefine the risk assessment of PCOS in the near future?\n",
      "Answer: I don't have information on specific proteomic or metabolomic profiles that could potentially redefine the risk assessment of PCOS in the near future based on the provided context. It seems that the focus is more on clinical and biochemical markers rather than proteomic or metabolomic profiles.\n",
      "Ask a question about PCOS: Are there specific screening tools recommended for assessing psychological distress in PCOS patients?\n",
      "Answer: Healthcare professionals should screen for depression in all adults and adolescents with PCOS using regionally validated screening tools. Healthcare professionals should also screen for anxiety in all adults with PCOS using regionally validated screening tools. The specific screening tools are not mentioned in the provided context.\n",
      "Ask a question about PCOS: Are there any recommended guidelines for the use of anxiolytic medication in PCOS treatment plans?\n",
      "Answer: The guidelines recommend that psychological therapy should be considered as first-line management for anxiety in PCOS. Antidepressant medications should be considered in adults with documented and persistent mental health disorders or if suicidal symptoms are present. However, the role and efficacy of antidepressants and anxiolytics specifically in PCOS are unclear, so decisions should be based on general population guidelines.\n",
      "Ask a question about PCOS: Discuss the impact of PCOS on psychosexual function and the recommended therapeutic interventions.\n",
      "Answer: The impact of PCOS on psychosexual function includes lower total sexual function, sexual arousal, lubrication, orgasm, and satisfaction compared to individuals without PCOS. Women with PCOS also reported reduced sex life satisfaction, perceptions of sexual attractiveness, and higher impact of excessive body hair on sexuality. However, no differences were found in sexual desire, pain during intercourse, frequency of sexual thoughts and fantasies, or importance of sexual satisfaction between women with PCOS and controls.\n",
      "\n",
      "Recommended therapeutic interventions for psychosexual function in PCOS include considering factors like higher weight, hirsutism, mood disorders, infertility, and PCOS medications. Healthcare professionals are encouraged to screen all women and adolescents at the time of PCOS diagnosis, use clinical judgment to inform additional screening, and consider targeted screening during the antenatal and postnatal periods. Future studies assessing psychosexual distress scores are also needed to better understand and address psychosexual dysfunction in PCOS.\n"
     ]
    },
    {
     "name": "stdout",
     "output_type": "stream",
     "text": [
      "Ask a question about PCOS: What are the best practices for family and partner involvement in the psychological care of PCOS patients?\n",
      "Answer: The best practices for family and partner involvement in the psychological care of PCOS patients include:\n",
      "\n",
      "1. Providing social and family support: Family and peer support can reduce stress, increase confidence, and provide a sense of security for PCOS patients.\n",
      "\n",
      "2. Understanding cultural variations: Recognizing cultural differences and providing culturally appropriate resources and education can enhance the support provided by family and partners.\n",
      "\n",
      "3. Encouraging shared decision making: Involving family members and partners in shared decision making can help in managing the psychological aspects of PCOS effectively.\n",
      "\n",
      "4. Prioritizing patient agency: Supporting patient agency or the ability to take independent actions to manage their health and care is crucial in psychological care.\n",
      "\n",
      "5. Increasing societal awareness and education: Public health actors should consider increasing societal awareness and education on PCOS to reduce stigma and marginalization, which can positively impact family and partner involvement in psychological care.\n",
      "\n",
      "It is important to note that these recommendations are based on the available evidence and consumer consultation, emphasizing the need for tailored and culturally sensitive approaches in supporting PCOS patients.\n",
      "Ask a question about PCOS: Can alternative medicine help manage psychological symptoms of PCOS?\n",
      "Answer: There is limited evidence on the effectiveness of alternative medicine specifically for managing psychological symptoms of PCOS. The most effective treatments for psychological symptoms in PCOS are empirically supported therapies like cognitive behavioral therapy (CBT), behavioral therapy, and interpersonal therapy. Lifestyle interventions and other therapies targeting PCOS features may also help improve psychological symptoms. It's important to consult with healthcare professionals to determine the best course of treatment for managing psychological symptoms in PCOS.\n",
      "Ask a question about PCOS: What is the potential for using artificial intelligence in screening and managing psychological features in PCOS? \n",
      "Answer: I don't have specific information on how artificial intelligence can be utilized in screening and managing psychological features in PCOS based on the provided context. It's best to consult with healthcare professionals or researchers in the field who may have more up-to-date information on this topic.\n",
      "Ask a question about PCOS: Are there any specific gene-environment interactions that influence the psychological symptoms in PCOS?\n",
      "Answer: I don't have specific information on gene-environment interactions that influence psychological symptoms in PCOS. The information provided focuses more on the prevalence, impact, and management of psychological symptoms in PCOS rather than specific genetic or environmental factors.\n",
      "Ask a question about PCOS: How effective are peer support groups, facilitated through social media, in improving psychological outcomes for women with PCOS?\n",
      "Answer: There is limited specific information available on the effectiveness of peer support groups facilitated through social media for women with PCOS. However, evidence suggests that social and peer support can have a positive impact on mental health outcomes, including reducing stress and increasing confidence. Additionally, treatments like cognitive behavioral therapy (CBT) have shown effectiveness in improving mental health conditions in the general population, and some studies have indicated positive effects of psychological interventions for women with PCOS. Therefore, it is plausible that peer support groups facilitated through social media could potentially have a positive impact on psychological outcomes for women with PCOS, but more research is needed to determine the specific effectiveness of this intervention.\n",
      "Ask a question about PCOS: What specific types of exercise are recommended for women with PCOS?\n",
      "Answer: For women with PCOS, lifestyle interventions that include exercise are recommended to improve metabolic health, central adiposity, and lipid profile. The recommendations include aerobic activity performed in bouts of at least 10 minutes duration, aiming for at least 30 minutes daily on most days. Additionally, high-intensity interval training and resistance training have been studied, showing some benefits for menstrual regularity and other outcomes. Combining aerobic and resistance training with a healthy diet has also been suggested. It's important to note that lifestyle management goals should be co-developed with the individual, taking into account personal preferences and needs.\n",
      "Ask a question about PCOS: What are the best practices for integrating lifestyle management with pharmacological treatment in PCOS care plans?\n",
      "Answer: Based on the provided context, the best practices for integrating lifestyle management with pharmacological treatment in PCOS care plans include:\n",
      "\n",
      "1. **Lifestyle Intervention**: Lifestyle interventions should be recommended for all women with PCOS to improve metabolic health, including central adiposity and lipid profile. These interventions can include behavioral strategies such as goal-setting, self-monitoring, problem-solving, assertiveness training, reinforcing changes, and relapse prevention.\n",
      "\n",
      "2. **Collaborative Goal-Setting**: Healthcare professionals should co-develop lifestyle management goals and priorities in partnership with women with PCOS, taking into account individual preferences.\n",
      "\n",
      "3. **Healthy Lifestyle Behaviors**: Encourage healthy eating and physical activity in all women with PCOS to optimize general health, quality of life, body composition, and weight management.\n",
      "\n",
      "4. **Weight Management**: For those with higher weight, weight management can lead to significant clinical improvements. A lifelong focus on preventing further weight gain, tailored energy deficit for weight loss, and improvement in central adiposity should be considered.\n",
      "\n",
      "5. **Structured Support**: Lifestyle management should be provided in the context of structured, intensive, and ongoing clinical support to ensure effectiveness.\n",
      "\n",
      "6. **Pharmacological Treatment**: Consider other therapies like COCP, metformin, or laser hair removal in addition to lifestyle interventions to target PCOS features and improve psychological symptoms.\n",
      "\n",
      "7. **Caution with Medications**: When offering pharmacological treatment for anxiety and depression, healthcare professionals should be cautious to avoid inappropriate treatment with antidepressants or anxiolytics that may exacerbate PCOS symptoms like weight gain.\n",
      "\n",
      "8. **Awareness of Psychological Impact**: Not managing anxiety and depression may impact adherence to PCOS treatment, so healthcare professionals should be aware of the psychological impact and provide appropriate support.\n",
      "\n",
      "In summary, integrating lifestyle management with pharmacological treatment in PCOS care plans involves a holistic approach that considers individual needs, healthy lifestyle behaviors, weight management, structured support, and caution with medications to optimize outcomes and improve overall well-being.\n",
      "Ask a question about PCOS: Discuss the impact of lifestyle interventions on the metabolic comorbidities of PCOS, e.g. diabetes or cardiovascular disease. \n",
      "Answer: Lifestyle interventions, including healthy eating, physical activity, and behavioral strategies, have been shown to improve metabolic health in women with PCOS. These interventions can help in managing central adiposity, improving lipid profiles, and reducing the risk of developing metabolic comorbidities like diabetes and cardiovascular disease. Lifestyle management can lead to modest weight loss, which has been associated with significant clinical improvements in metabolic health. Additionally, lifestyle interventions can help prevent further weight gain, improve central adiposity, and support overall health and quality of life in women with PCOS.\n",
      "Ask a question about PCOS: What are the effects of caffeine and alcohol intake on PCOS symptoms?\n",
      "Answer: I don't have specific information on the effects of caffeine and alcohol intake on PCOS symptoms based on the provided context. It is recommended that women with PCOS should consider factors like weight, blood pressure, smoking, alcohol, diet, and nutritional status to improve reproductive and pregnancy outcomes. It would be best to consult with a healthcare professional for personalized advice on the impact of caffeine and alcohol intake on PCOS symptoms.\n"
     ]
    },
    {
     "name": "stdout",
     "output_type": "stream",
     "text": [
      "Ask a question about PCOS: Are there specific micronutrients or supplements that should be considered in the diet of women with PCOS?\n",
      "Answer: I don't have specific information on micronutrients or supplements for women with PCOS in the provided context. It is recommended to consult with a healthcare professional or a registered dietitian who is knowledgeable about PCOS to get personalized advice on specific nutrients or supplements that may be beneficial for managing PCOS.\n",
      "Ask a question about PCOS: What are the emerging trends in nutrigenomics that could impact dietary recommendations for PCOS?\n",
      "Answer: I don't have information on emerging trends in nutrigenomics that could impact dietary recommendations for PCOS based on the provided context.\n",
      "Ask a question about PCOS: What are the first-line pharmacological treatments for managing menstrual irregularity in PCOS?\n",
      "Answer: The first-line pharmacological treatments for managing menstrual irregularity in PCOS include the combined oral contraceptive pill (COCP). It could be recommended in reproductive age adults with PCOS for the management of irregular menstrual cycles. Additionally, the COCP could be considered in adolescents at risk or with a clear diagnosis of PCOS for the same purpose.\n",
      "Ask a question about PCOS: What anti-androgen medications are recommended for treating hirsutism associated with PCOS?\n",
      "Answer: Spironolactone at 25-100 mg/day is recommended for treating hirsutism associated with PCOS due to its lower risks of adverse effects. However, cyproterone acetate at doses ≥ 10 mg is not advised due to an increased risk, including for meningioma. Finasteride has an increased risk of liver toxicity, while flutamide and bicalutamide have an increased risk of severe liver toxicity. It's important to consider these factors when choosing an anti-androgen medication for treating hirsutism in PCOS.\n",
      "Ask a question about PCOS: How effective are inositol supplements in managing insulin resistance in PCOS?\n",
      "Answer: The effectiveness of inositol supplements in managing insulin resistance in PCOS is still uncertain. While inositol has been proposed to play a role in insulin signaling transduction and glucose uptake, there is limited evidence with uncertain results on the effect of inositol on ovulation, clinical pregnancy, and live birth rates. Additionally, the evidence on the effectiveness of inositol in improving metabolic measures is limited, with potential improvements but limited clinical benefits in ovulation, hirsutism, or weight. Therefore, the effectiveness of inositol supplements in managing insulin resistance in PCOS is not definitively established.\n",
      "Ask a question about PCOS: How does exposure to environmental pollutants influence the severity of non-fertility symptoms in PCOS?\n",
      "Answer: I don't have specific information on how exposure to environmental pollutants influences the severity of non-fertility symptoms in PCOS. The available context focuses more on the impact of PCOS on physical and psychological health, including increased rates of anxiety and depression. If you have concerns about environmental pollutants and PCOS symptoms, it may be best to consult with a healthcare provider or specialist in environmental health for more targeted information.\n",
      "Ask a question about PCOS: Are there any novel biomarkers under investigation that could improve the management of dermatologic features in PCOS?\n",
      "Answer: I don't have information on specific novel biomarkers currently under investigation for improving the management of dermatologic features in PCOS.\n",
      "Ask a question about PCOS: Are there any ongoing clinical trials focusing on immune-modulating treatments for skin manifestations of PCOS? \n",
      "Answer: I don't have information on ongoing clinical trials specifically focusing on immune-modulating treatments for skin manifestations of PCOS. It's recommended to check clinical trial registries like ClinicalTrials.gov or reach out to healthcare providers or research institutions for the most up-to-date information on ongoing trials in this area.\n",
      "Ask a question about PCOS: What are the guidelines for tubal patency testing in women with PCOS who are experiencing infertility?\n",
      "Answer: In women with PCOS and infertility due to anovulation alone with normal semen analysis, the risks, benefits, costs, and timing and techniques of tubal patency testing should be considered on an individual basis. If there is a clinical history of factors associated with tubal infertility, tubal patency testing could be considered. Hysterosalpingography, ultrasound methods, or laparoscopy can be used for tubal testing. However, there is inadequate information about the indications and need for tubal patency testing for intrauterine insemination with normal semen analysis in infertile women with PCOS. It is recommended to consider risk factors for infertility associated with tubal pathology in PCOS, such as a history of previous abdominal septic surgery, pelvic surgical procedures, sexual transmitted infections, or pelvic inflammatory disease. The choice of tubal patency testing method should be based on individual circumstances and preferences, considering factors like discomfort, false positives, and potential complications.\n",
      "Ask a question about PCOS: What are the recommendations for using gonadotropins in the treatment of PCOS-related infertility?\n",
      "Answer: The recommendations for using gonadotrophins in the treatment of PCOS-related infertility include:\n",
      "\n",
      "1. Gonadotrophins could be considered as second-line pharmacological therapy for women with PCOS who are anovulatory and infertile, with no other infertility factors and who have failed first-line oral ovulation induction.\n",
      "\n",
      "2. A low dose step-up gonadotrophin protocol should be used to optimize the chance of monofollicular development and minimize multiple pregnancies.\n",
      "\n",
      "3. When using gonadotrophins, it is best clinical practice to avoid multiple pregnancies by considering factors such as canceling cycles with more than two follicles over 14 mm in diameter and advising avoidance of unprotected intercourse.\n",
      "\n",
      "4. Gonadotrophins alone could be used over gonadotrophins combined with clomiphene citrate in women with PCOS who are anovulatory and infertile with clomiphene citrate resistance or failure, and no other infertility factors.\n",
      "\n",
      "5. Either gonadotrophins or laparoscopic ovarian surgery could be used in women with PCOS who are anovulatory and infertile, with clomiphene citrate resistance and no other infertility factors, following counseling on higher live birth rates and higher multiple pregnancy rates with gonadotrophins.\n",
      "\n",
      "6. Cost of the intervention, expertise required, degree of intensive ultrasound monitoring, and implications of potential multiple pregnancies should be considered when prescribing gonadotrophins.\n",
      "\n",
      "7. Gonadotrophins are recommended after other first- or second-line ovulation induction therapies have failed, and IVF could be offered in women with PCOS and anovulatory infertility if other treatments have not been successful.\n",
      "\n",
      "Please note that these recommendations are based on the provided context and guidelines for the treatment of PCOS-related infertility with gonadotrophins.\n",
      "Ask a question about PCOS: What are the implications of using exogenous luteinising hormone in the treatment of infertility in PCOS patients? \n",
      "Answer: Exogenous luteinising hormone treatment should not be routinely used in combination with follicle stimulating hormone therapy in women with PCOS undergoing controlled ovarian hyperstimulation for IVF/ICSI. The evidence suggests that there is no anticipated effect or benefit to add exogenous LH supplement in women with PCOS undergoing ovarian stimulation for IVF ± ICSI. Additionally, a multicenter RCT of exogenous LH during the follicular phase showed no fertility benefits outcomes in women over 35.\n",
      "Ask a question about PCOS: What are the long-term effects of using ovulation induction medications on overall health in PCOS patients?\n",
      "Answer: There is limited information available on the long-term effects of using ovulation induction medications on overall health in PCOS patients. The focus of the available evidence is primarily on reproductive outcomes rather than long-term health impacts. It is important to consult with a healthcare professional for personalized advice and monitoring when considering ovulation induction medications in PCOS patients.\n"
     ]
    },
    {
     "name": "stdout",
     "output_type": "stream",
     "text": [
      "Ask a question about PCOS: Are there any advancements in nano-medicine that could improve drug delivery and effectiveness in infertility treatments for PCOS?\n",
      "Answer: I don't have information on specific advancements in nano-medicine related to drug delivery for infertility treatments in PCOS. It's a rapidly evolving field, so it would be best to consult recent research articles or experts in the field for the most up-to-date information on this topic.\n",
      "Ask a question about PCOS: What role do stem cells play in potential future treatments for infertility in PCOS patients?\n",
      "Answer: I don't have information on the role of stem cells in potential future treatments for infertility in PCOS patients based on the provided context.\n",
      "Ask a question about PCOS: What specific genetic polymorphisms in PCOS patients are linked to infertility, and how can targeted therapies be developed based on these findings?\n",
      "Answer: I don't have information on specific genetic polymorphisms in PCOS patients that are linked to infertility or how targeted therapies can be developed based on these findings. The information provided does not delve into genetic polymorphisms in PCOS patients. It mainly focuses on the impact of PCOS on pregnancy outcomes, social aspects, lifestyle recommendations, and the role of IVF in PCOS. For detailed information on genetic polymorphisms in PCOS patients related to infertility and targeted therapies, it would be best to consult genetic studies or research specifically focused on this aspect.\n",
      "Ask a question about PCOS: How does the diagnosis of PCOS evolve from adolescence through menopause, and what are the implications for managing infertility?\n",
      "Answer: The diagnosis of PCOS can evolve from adolescence through menopause due to the changes in hormonal levels and reproductive function that occur during different life stages. In adolescence, irregular cycles and ovulatory dysfunction can be challenging to diagnose accurately due to the normal variations in menstrual cycles during this period. The greatest controversy in PCOS diagnostic criteria is during the pubertal transition, as the maturation of the hypothalamic-pituitary-ovarian axis occurs over years, and cycles in adolescents do not match those of reproductive-aged women.\n",
      "\n",
      "During menopause, the diagnosis of PCOS can also present challenges due to the changes in hormonal levels and the natural aging process. Postmenopausal women with PCOS may still exhibit clinical and biochemical hyperandrogenism, which can persist after menopause. The manifestations of PCOS after menopause remain unclear, and there is inadequate evidence of the long-term natural history of PCOS in this life stage.\n",
      "\n",
      "Regarding managing infertility in PCOS patients, it is essential to consider the specific challenges and implications at different life stages. In adolescence, the focus may be on addressing irregular cycles and ovulatory dysfunction to improve fertility potential in the future. In reproductive-aged women, interventions such as lifestyle modifications, ovulation induction, and assisted reproductive technologies may be utilized to manage infertility associated with PCOS. During menopause, the management of infertility in women with a history of PCOS may involve addressing any remaining hyperandrogenism and considering the impact of aging on fertility.\n",
      "\n",
      "Overall, the diagnosis and management of PCOS in relation to infertility should be tailored to the specific needs and challenges presented at different life stages, taking into account the evolving hormonal and reproductive changes that occur from adolescence through menopause.\n",
      "Ask a question about PCOS: What are the combined effects of lifestyle management and pharmacological treatments on managing both the metabolic and reproductive symptoms of PCOS?\n",
      "Answer: Lifestyle management, including interventions like exercise, diet, and behavioral strategies, can have a positive impact on both the metabolic and reproductive symptoms of PCOS. These interventions can help improve metabolic health, including central adiposity and lipid profiles, which are often affected in PCOS. Additionally, lifestyle changes can help with weight management, which is crucial in PCOS as excess weight can exacerbate symptoms.\n",
      "\n",
      "On the other hand, pharmacological treatments for anxiety and depression in PCOS should be approached with caution to avoid inappropriate treatment with medications that may worsen PCOS symptoms, such as those leading to weight gain. Managing anxiety and depression is important as it can impact adherence to PCOS treatment and management.\n",
      "\n",
      "Overall, a combination of lifestyle management and appropriate pharmacological treatments, when necessary, can help address both the metabolic and reproductive symptoms of PCOS, improving overall health and quality of life for individuals with this condition.\n",
      "Ask a question about PCOS: How should I approach the treatment of adolescent PCOS patients who exhibit symptoms affecting both their psychological health and fertility potential?\n",
      "Answer: For adolescent PCOS patients showing symptoms impacting both their psychological well-being and fertility potential, the recommended approach includes psychological therapy guided by regional general population guidelines and the preference of the patient. This may involve treatments like cognitive behavioral therapy (CBT) for issues like depression, anxiety, eating disorders, body image distress, low self-esteem, feminine identity problems, or psychosexual dysfunction. Additionally, optimizing lifestyle factors such as weight, diet, exercise, and mental health is crucial for improving reproductive outcomes and overall health. It's important to consider individual characteristics, diagnosis, and available resources when choosing the appropriate treatment.\n",
      "Ask a question about PCOS: How should I monitor and adjust treatment strategies for PCOS patients as they transition through different life stages, especially focusing on fertility and metabolic health?\n",
      "Answer: Treatment strategies for PCOS patients should be monitored and adjusted as they transition through different life stages, with a specific focus on fertility and metabolic health. Here are some key points based on the provided context:\n",
      "\n",
      "1. **Lifestyle Management**: Lifestyle interventions, including healthy eating and physical activity, should be recommended for all women with PCOS to improve metabolic health, body composition, and weight management. These interventions should be tailored to individual preferences and goals.\n",
      "\n",
      "2. **Weight Management**: For those with higher weight, weight management can lead to significant clinical improvements. Healthcare professionals should focus on preventing further weight gain, prescribing tailored energy deficits for weight loss, and assessing central adiposity and metabolic health.\n",
      "\n",
      "3. **Preconception Care**: In women with PCOS planning pregnancy, weight, blood pressure, diet, exercise, and mental health should be optimized to improve reproductive and pregnancy outcomes. Folate supplementation, especially in those with a BMI over 30, should be considered.\n",
      "\n",
      "4. **Reproductive Health**: A reproductive life plan and education on optimizing reproductive health should be provided to adolescents and women with PCOS. Chronic conditions like diabetes and mental health issues should be managed optimally to reduce the risk of adverse pregnancy outcomes.\n",
      "\n",
      "5. **Cultural Considerations**: Healthcare professionals should be aware of cultural, social, and environmental determinants of health when discussing weight and lifestyle management with women with PCOS. Culturally appropriate resources and education should be considered for families affected by PCOS.\n",
      "\n",
      "6. **Patient-Centered Care**: Interactions between patients, healthcare providers, and the wider healthcare team are crucial for enhancing knowledge, self-management, shared decision-making, and support for achieving health outcomes. Patient care should be individualized, taking into account the heterogeneous nature of PCOS across different populations and life stages.\n",
      "\n",
      "Monitoring and adjusting treatment strategies for PCOS patients should involve regular assessments of lifestyle behaviors, weight management, reproductive health, and metabolic parameters. Healthcare professionals should work collaboratively with patients to set goals, provide ongoing support, and address any challenges that arise during different life stages.\n"
     ]
    },
    {
     "name": "stdout",
     "output_type": "stream",
     "text": [
      "Ask a question about PCOS: exit\n",
      "Exiting the PCOS Information Assistant. Thank you!\n"
     ]
    }
   ],
   "source": [
    "interactive_qa_session()"
   ]
  }
 ],
 "metadata": {
  "kernelspec": {
   "display_name": "Python 3 (ipykernel)",
   "language": "python",
   "name": "python3"
  },
  "language_info": {
   "codemirror_mode": {
    "name": "ipython",
    "version": 3
   },
   "file_extension": ".py",
   "mimetype": "text/x-python",
   "name": "python",
   "nbconvert_exporter": "python",
   "pygments_lexer": "ipython3",
   "version": "3.11.4"
  }
 },
 "nbformat": 4,
 "nbformat_minor": 5
}
