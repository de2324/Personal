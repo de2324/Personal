{
 "cells": [
  {
   "cell_type": "code",
   "execution_count": 3,
   "id": "9d42ff66",
   "metadata": {
    "scrolled": true
   },
   "outputs": [
    {
     "name": "stdout",
     "output_type": "stream",
     "text": [
      "Requirement already satisfied: xmltodict in /Users/Misa/anaconda3/lib/python3.11/site-packages (0.13.0)\n",
      "Requirement already satisfied: langchainhub in /Users/Misa/anaconda3/lib/python3.11/site-packages (0.1.15)\n",
      "Requirement already satisfied: requests<3,>=2 in /Users/Misa/anaconda3/lib/python3.11/site-packages (from langchainhub) (2.31.0)\n",
      "Requirement already satisfied: types-requests<3.0.0.0,>=2.31.0.2 in /Users/Misa/anaconda3/lib/python3.11/site-packages (from langchainhub) (2.31.0.20240406)\n",
      "Requirement already satisfied: charset-normalizer<4,>=2 in /Users/Misa/anaconda3/lib/python3.11/site-packages (from requests<3,>=2->langchainhub) (2.0.4)\n",
      "Requirement already satisfied: idna<4,>=2.5 in /Users/Misa/anaconda3/lib/python3.11/site-packages (from requests<3,>=2->langchainhub) (3.4)\n",
      "Requirement already satisfied: urllib3<3,>=1.21.1 in /Users/Misa/anaconda3/lib/python3.11/site-packages (from requests<3,>=2->langchainhub) (2.2.1)\n",
      "Requirement already satisfied: certifi>=2017.4.17 in /Users/Misa/anaconda3/lib/python3.11/site-packages (from requests<3,>=2->langchainhub) (2023.7.22)\n"
     ]
    }
   ],
   "source": [
    "!pip install xmltodict\n",
    "!pip install --upgrade --quiet  google-search-results\n",
    "!pip install langchainhub"
   ]
  },
  {
   "cell_type": "code",
   "execution_count": 61,
   "id": "024a7e61",
   "metadata": {},
   "outputs": [],
   "source": [
    "import os\n",
    "import openai\n",
    "\n",
    "from dotenv import load_dotenv\n",
    "from langchain_community.tools.pubmed.tool import PubmedQueryRun\n",
    "from langchain_community.tools.google_scholar import GoogleScholarQueryRun\n",
    "from langchain_community.utilities.google_scholar import GoogleScholarAPIWrapper\n",
    "from langchain_openai.chat_models import ChatOpenAI\n",
    "from langchain_community.document_loaders import TextLoader\n",
    "from langchain.text_splitter import RecursiveCharacterTextSplitter\n",
    "from langchain_openai.embeddings import OpenAIEmbeddings\n",
    "from langchain_pinecone import PineconeVectorStore\n",
    "from langchain.tools.retriever import create_retriever_tool\n",
    "from langchain.agents import AgentExecutor\n",
    "from langchain.agents import create_openai_tools_agent\n",
    "from langchain import hub\n",
    "from langchain.prompts import PromptTemplate"
   ]
  },
  {
   "cell_type": "markdown",
   "id": "ef988e5e",
   "metadata": {},
   "source": [
    "# Setting Up "
   ]
  },
  {
   "cell_type": "code",
   "execution_count": 5,
   "id": "51feee97",
   "metadata": {},
   "outputs": [],
   "source": [
    "#loading environment variables \n",
    "load_dotenv(\"api.env\")\n",
    "\n",
    "OPENAI_API_KEY = os.getenv(\"OPENAI_API_KEY\")\n",
    "PINECONE_API_KEY = os.getenv(\"PINECONE_API_KEY\")\n",
    "PINECONE_API_ENV = os.getenv('PINECONE_API_ENV') \n",
    "\n",
    "#SERP API necessary for Google Scholar API \n",
    "SERP_API_KEY = os.getenv(\"SERP_API_KEY\")"
   ]
  },
  {
   "cell_type": "markdown",
   "id": "bdb825fb",
   "metadata": {},
   "source": [
    "# PubMed Tool"
   ]
  },
  {
   "cell_type": "code",
   "execution_count": 6,
   "id": "675b4383",
   "metadata": {},
   "outputs": [],
   "source": [
    "#Setting up PubMed Tool \n",
    "pubmed_tool = PubmedQueryRun()"
   ]
  },
  {
   "cell_type": "code",
   "execution_count": 7,
   "id": "e9605112",
   "metadata": {},
   "outputs": [
    {
     "data": {
      "text/plain": [
       "'No good PubMed Result was found'"
      ]
     },
     "execution_count": 7,
     "metadata": {},
     "output_type": "execute_result"
    }
   ],
   "source": [
    "#Output when PubMed Tool is run \n",
    "question = \"How effective are peer support groups, facilitated through social media in helping women with PCOS?\"\n",
    "pubmed_tool.invoke(question)"
   ]
  },
  {
   "cell_type": "code",
   "execution_count": 8,
   "id": "fb479d10",
   "metadata": {},
   "outputs": [
    {
     "data": {
      "text/plain": [
       "'Published: --\\nTitle: Lifestyle choices, diet, and insulin sensitizers in polycystic ovary syndrome.\\nCopyright Information: \\nSummary::\\nPolycystic ovary syndrome (PCOS) is significantly affected by environmental regulators impacting on genetic predisposition. Lifestyle changes can significantly modulate the phenotype of this disease. Diet, exercise, smoking, stress, and other factors adversely affect reproductive outcomes in PCOS. These influences can be modulated by structure change in an individual or group. Lifestyle choices should be discussed in this group of patients. The role of insulin sensitizers, including metformin, has still to be determined in this condition.'"
      ]
     },
     "execution_count": 8,
     "metadata": {},
     "output_type": "execute_result"
    }
   ],
   "source": [
    "#Output when PubMed Tool is run \n",
    "question = \"What are the effects of caffeine and alcohol intake on PCOS symptoms?\"\n",
    "pubmed_tool.invoke(question)"
   ]
  },
  {
   "cell_type": "markdown",
   "id": "b8e907d7",
   "metadata": {},
   "source": [
    "# Google Scholar Tool "
   ]
  },
  {
   "cell_type": "code",
   "execution_count": 9,
   "id": "1a147eb4",
   "metadata": {},
   "outputs": [],
   "source": [
    "#Setting up Google Scholar Tool \n",
    "api_wrapper = GoogleScholarAPIWrapper(top_k_results = 1)\n",
    "google_tool = GoogleScholarQueryRun(api_wrapper=api_wrapper)"
   ]
  },
  {
   "cell_type": "code",
   "execution_count": 10,
   "id": "aea03532",
   "metadata": {},
   "outputs": [
    {
     "data": {
      "text/plain": [
       "'Title: Nurse‐led peer support group: Experiences of women with polycystic ovary syndrome\\nAuthors: CA Percy,L Potter\\nSummary: CA Percy, T Gibbs, L Potter… - Journal of Advanced …, 2009 - Wiley Online Library\\nTotal-Citations: 85'"
      ]
     },
     "execution_count": 10,
     "metadata": {},
     "output_type": "execute_result"
    }
   ],
   "source": [
    "#Output when Google tool is run \n",
    "question = \"How effective are peer support groups, facilitated through social media in helping women with PCOS?\"\n",
    "google_tool.run(question)"
   ]
  },
  {
   "cell_type": "code",
   "execution_count": 11,
   "id": "74e22576",
   "metadata": {},
   "outputs": [
    {
     "data": {
      "text/plain": [
       "'Title: Alcohol, drugs, caffeine, tobacco, and environmental contaminant exposure: reproductive health consequences and clinical implications\\nAuthors: CL Hughes\\nSummary: JC Sadeu, CL Hughes, S Agarwal… - Critical reviews in …, 2010 - Taylor & Francis\\nTotal-Citations: 154'"
      ]
     },
     "execution_count": 11,
     "metadata": {},
     "output_type": "execute_result"
    }
   ],
   "source": [
    "#Output when Google tool is run \n",
    "question = \"What are the effects of caffeine and alcohol intake on PCOS symptoms?\"\n",
    "google_tool.run(question)"
   ]
  },
  {
   "cell_type": "markdown",
   "id": "3ac38748",
   "metadata": {},
   "source": [
    "# Guideline Tool "
   ]
  },
  {
   "cell_type": "code",
   "execution_count": 12,
   "id": "c5f2a635",
   "metadata": {},
   "outputs": [],
   "source": [
    "#Loading and splitting documents\n",
    "loader = TextLoader(\"Guidelines (txt)/master_pcos.txt\")\n",
    "docs=loader.load()\n",
    "documents=RecursiveCharacterTextSplitter(chunk_size=2000,chunk_overlap=200).split_documents(docs)"
   ]
  },
  {
   "cell_type": "code",
   "execution_count": 13,
   "id": "ff2d41b6",
   "metadata": {},
   "outputs": [],
   "source": [
    "#Embeddings\n",
    "embeddings = OpenAIEmbeddings(model=\"text-embedding-3-small\", openai_api_key=OPENAI_API_KEY)"
   ]
  },
  {
   "cell_type": "code",
   "execution_count": 14,
   "id": "8e8bcd1c",
   "metadata": {},
   "outputs": [],
   "source": [
    "#Retriever\n",
    "index_name = \"tools\"\n",
    "pinecone = PineconeVectorStore.from_documents(documents, embeddings, index_name=index_name)\n",
    "retriever = pinecone.as_retriever()"
   ]
  },
  {
   "cell_type": "code",
   "execution_count": 15,
   "id": "a1fa20c6",
   "metadata": {},
   "outputs": [],
   "source": [
    "#Creating guideline tool -> named retriever tool \n",
    "retriever_tool = create_retriever_tool(retriever,\"pcos_search\",\n",
    "                                      \"You are a PCOS chatbot. Answer the question given the context.\")"
   ]
  },
  {
   "cell_type": "code",
   "execution_count": 16,
   "id": "53ec98bb",
   "metadata": {},
   "outputs": [
    {
     "data": {
      "text/plain": [
       "'pcos_search'"
      ]
     },
     "execution_count": 16,
     "metadata": {},
     "output_type": "execute_result"
    }
   ],
   "source": [
    "retriever_tool.name"
   ]
  },
  {
   "cell_type": "markdown",
   "id": "26c0f4ce",
   "metadata": {},
   "source": [
    "# RAG"
   ]
  },
  {
   "cell_type": "code",
   "execution_count": 17,
   "id": "bb121404",
   "metadata": {},
   "outputs": [],
   "source": [
    "#Set LLM model \n",
    "model = ChatOpenAI(openai_api_key=OPENAI_API_KEY, model=\"gpt-3.5-turbo\", temperature=0)"
   ]
  },
  {
   "cell_type": "code",
   "execution_count": 32,
   "id": "1eb4e2fa",
   "metadata": {},
   "outputs": [],
   "source": [
    "#LangChain toolkit -> order = in what order they are used! \n",
    "tools=[retriever_tool,pubmed_tool,google_tool]"
   ]
  },
  {
   "cell_type": "code",
   "execution_count": 33,
   "id": "f413ab24",
   "metadata": {},
   "outputs": [
    {
     "data": {
      "text/plain": [
       "[SystemMessagePromptTemplate(prompt=PromptTemplate(input_variables=[], template='You are a helpful assistant')),\n",
       " MessagesPlaceholder(variable_name='chat_history', optional=True),\n",
       " HumanMessagePromptTemplate(prompt=PromptTemplate(input_variables=['input'], template='{input}')),\n",
       " MessagesPlaceholder(variable_name='agent_scratchpad')]"
      ]
     },
     "execution_count": 33,
     "metadata": {},
     "output_type": "execute_result"
    }
   ],
   "source": [
    "#Prompt \n",
    "prompt = hub.pull(\"hwchase17/openai-functions-agent\")\n",
    "prompt.messages"
   ]
  },
  {
   "cell_type": "code",
   "execution_count": 44,
   "id": "9aed9304",
   "metadata": {},
   "outputs": [],
   "source": [
    "# Agents\n",
    "agent=create_openai_tools_agent(model,tools,prompt)"
   ]
  },
  {
   "cell_type": "code",
   "execution_count": 38,
   "id": "70f6dc1d",
   "metadata": {},
   "outputs": [],
   "source": [
    "#Agent Executor \n",
    "agent_executor=AgentExecutor(agent=agent,tools=tools,verbose=False, handle_parsing_errors = True)"
   ]
  },
  {
   "cell_type": "markdown",
   "id": "a996d0a9",
   "metadata": {},
   "source": [
    "# Evaluation"
   ]
  },
  {
   "cell_type": "code",
   "execution_count": 46,
   "id": "945bc9eb",
   "metadata": {
    "scrolled": false
   },
   "outputs": [
    {
     "data": {
      "text/plain": [
       "{'input': 'What specific types of exercise are recommended for women with PCOS?',\n",
       " 'output': 'For women with PCOS, it is recommended to engage in aerobic activity in bouts of at least 10 minutes duration, aiming for at least 30 minutes daily on most days. Additionally, barriers and facilitators to engagement and adherence to physical activity should be discussed, including psychological factors, personal safety concerns, environmental factors, and personal motivators for change. Referral to allied healthcare professionals may be considered to optimize physical activity in women with PCOS.\\n\\nSelf-monitoring with fitness tracking devices and technologies for step count and exercise intensity could be beneficial to support and promote active lifestyles and reduce sedentary behaviors. High-intensity interval training and moderate-intensity continuous training are both effective for improving metabolic and hormonal outcomes in women with PCOS.\\n\\nOverall, lifestyle interventions such as exercise alone or combined with diet and behavioral strategies should be recommended for all women with PCOS to improve metabolic health, central adiposity, and lipid profile. Healthy lifestyle behaviors including healthy eating and physical activity are essential for optimizing general health, quality of life, body composition, and weight management in women with PCOS. Healthcare professionals should work in partnership with women with PCOS to co-develop lifestyle management goals and prioritize individual preferences. Weight management can lead to significant clinical improvements in those with higher weight, and ongoing assessment and support are crucial in managing weight in women with PCOS.'}"
      ]
     },
     "execution_count": 46,
     "metadata": {},
     "output_type": "execute_result"
    }
   ],
   "source": [
    "query = \"What specific types of exercise are recommended for women with PCOS?\"\n",
    "agent_executor.invoke({\"input\":query})"
   ]
  },
  {
   "cell_type": "code",
   "execution_count": 40,
   "id": "de328a1d",
   "metadata": {},
   "outputs": [
    {
     "data": {
      "text/plain": [
       "{'input': 'What anti-androgen medications are recommended for treating hirsutism associated with PCOS?',\n",
       " 'output': \"The recommendations for treating hirsutism associated with PCOS include considering anti-androgen medications in combination with effective contraception if there is a suboptimal response to other therapies like COCP and cosmetic therapy. Some anti-androgen medications that could be considered are spironolactone, cyproterone acetate, finasteride, flutamide, and bicalutamide. It's important to note that spironolactone at 25-100 mg/day appears to have lower risks of adverse effects compared to other medications. However, healthcare professionals should be cautious about the potential risks and side effects associated with each medication.\\n\\nAdditionally, it is recommended to educate and counsel women about the risks of using anti-androgens, especially in women who can get pregnant, to prevent incomplete development of external genital structures in male fetuses. Effective contraception is strongly advised when using anti-androgens. The evidence on the use of anti-androgens in PCOS is limited, and the decision to prescribe these medications should be made carefully, considering individual patient factors and preferences.\"}"
      ]
     },
     "execution_count": 40,
     "metadata": {},
     "output_type": "execute_result"
    }
   ],
   "source": [
    "query = \"What anti-androgen medications are recommended for treating hirsutism associated with PCOS?\"\n",
    "agent_executor.invoke({\"input\":query})"
   ]
  },
  {
   "cell_type": "code",
   "execution_count": 41,
   "id": "fa2bf689",
   "metadata": {},
   "outputs": [
    {
     "data": {
      "text/plain": [
       "{'input': 'Discuss the impact of PCOS on psychosexual function and the recommended therapeutic interventions.',\n",
       " 'output': 'Psychosexual dysfunction in women with Polycystic Ovary Syndrome (PCOS) can be influenced by various factors such as depression, low self-esteem, and negative body image. Studies have shown that women with PCOS may experience lower sexual function, arousal, lubrication, orgasm, and satisfaction compared to those without PCOS. However, there were no significant differences in sexual desire or pain between the two groups.\\n\\nTherapeutic interventions for addressing psychosexual dysfunction in PCOS may include considering factors like higher weight, hirsutism, mood disorders, infertility, and medications used for PCOS treatment. Healthcare professionals should be mindful of these factors when discussing psychosexual function with individuals with PCOS.\\n\\nIt is important to seek permission to discuss psychosexual function with patients and consider both low psychosexual function and related distress when diagnosing psychosexual dysfunction. Screening and assessment for psychosexual distress scores are recommended to facilitate appropriate interventions to improve sexual function, address the social impact of PCOS, and enhance quality of life.\\n\\nAdditionally, body image issues, including body dissatisfaction, disordered eating, and negative perceptions of appearance, are prevalent in women with PCOS. Screening for body image concerns and addressing them as part of the overall management of PCOS is essential to improve mental well-being and overall health.\\n\\nIn summary, addressing psychosexual function and body image concerns in women with PCOS through appropriate screening, assessment, and targeted interventions can help improve their quality of life and overall well-being.'}"
      ]
     },
     "execution_count": 41,
     "metadata": {},
     "output_type": "execute_result"
    }
   ],
   "source": [
    "query = \"Discuss the impact of PCOS on psychosexual function and the recommended therapeutic interventions.\"\n",
    "agent_executor.invoke({\"input\":query})"
   ]
  },
  {
   "cell_type": "code",
   "execution_count": 42,
   "id": "05a36f92",
   "metadata": {},
   "outputs": [
    {
     "data": {
      "text/plain": [
       "{'input': 'What are the potential impacts of early life environmental exposures (e.g., endocrine disruptors) on the onset and progression of PCOS symptoms throughout life stages?',\n",
       " 'output': 'Early life environmental exposures, such as endocrine disruptors, can have potential impacts on the onset and progression of PCOS symptoms throughout life stages. Here are some key points based on the search results:\\n\\n1. **Pregnancy Outcomes**: Women with PCOS are at a higher risk of adverse pregnancy outcomes due to comorbidities like high BMI, metabolic disturbances, hyperandrogenism, and infertility. However, the detection of PCOS symptoms during pregnancy is challenging, leading to a lack of awareness and management of the condition during antenatal care and postpartum.\\n\\n2. **Preconception Risk Factors**: Preconception care for women with PCOS is crucial to identify and modify risk factors that can impact fertility and pregnancy outcomes. Factors such as BMI, smoking, alcohol consumption, medical conditions, nutritional status, and mental health should be addressed before conception to optimize fertility and reduce complications during pregnancy.\\n\\n3. **Quality of Life**: Women with PCOS may experience lower quality of life scores in domains such as emotions, hirsutism, body weight, infertility, and menstrual disorders. Routine screening for anxiety, depression, body image issues, and eating disorders is recommended to address the impact of PCOS on mental health and overall well-being.\\n\\n4. **Metabolic Syndrome and Family Risk**: Studies suggest that individuals with PCOS and their first-degree relatives may have a higher risk of metabolic syndrome, hypertension, and diabetes. Fathers and mothers of women with PCOS also show increased likelihood of metabolic syndrome, hypertension, and diabetes compared to controls. However, offspring of women with PCOS do not appear to have a higher incidence of diabetes, excess weight, or metabolic syndrome.\\n\\nThese findings highlight the importance of early life environmental exposures and preconception care in managing PCOS symptoms and improving outcomes throughout different life stages.'}"
      ]
     },
     "execution_count": 42,
     "metadata": {},
     "output_type": "execute_result"
    }
   ],
   "source": [
    "query = \"What are the potential impacts of early life environmental exposures (e.g., endocrine disruptors) on the onset and progression of PCOS symptoms throughout life stages?\"\n",
    "agent_executor.invoke({\"input\":query})"
   ]
  },
  {
   "cell_type": "code",
   "execution_count": 47,
   "id": "41f6103f",
   "metadata": {},
   "outputs": [
    {
     "data": {
      "text/plain": [
       "{'input': 'Are there any specific proteomic or metabolomic profiles that could redefine the risk assessment of PCOS in the near future?',\n",
       " 'output': 'Specific proteomic or metabolomic profiles that could redefine the risk assessment of PCOS in the near future include:\\n\\n1. Biochemical Hyperandrogenism:\\n   - Hyperandrogenism is a key diagnostic feature of PCOS affecting a significant percentage of individuals with the condition.\\n   - Assessment of biochemical hyperandrogenism is challenging due to variations in methods, ethnicity, and confounding factors.\\n   - Measures of laboratory-calculated unbound or free testosterone are commonly used for assessment.\\n   - High-quality assays for testosterone measurements are essential for accurate diagnosis.\\n\\n2. Clinical Hyperandrogenism:\\n   - PCOS is associated with a higher prevalence of cardiometabolic risk factors, including weight issues, impaired glucose tolerance, diabetes, dyslipidemia, and metabolic syndrome.\\n   - Women with PCOS have shown higher cardiovascular surrogate markers and increased risk for cardiovascular diseases.\\n   - Screening for cardiovascular risk factors is recommended in individuals with PCOS to address broader health implications beyond reproductive health.\\n\\n3. Impaired Glucose Tolerance and Type 2 Diabetes Risk:\\n   - Women with PCOS are at an increased risk of weight gain and may have altered total energy, carbohydrate, protein, and fat intake compared to those without PCOS.\\n   - Monitoring and managing glucose tolerance and diabetes risk are crucial in the management of PCOS.\\n\\nThese profiles provide insights into the potential biomarkers and metabolic indicators that could enhance the risk assessment and management of PCOS in the future.'}"
      ]
     },
     "execution_count": 47,
     "metadata": {},
     "output_type": "execute_result"
    }
   ],
   "source": [
    "query = \"Are there any specific proteomic or metabolomic profiles that could redefine the risk assessment of PCOS in the near future?\"\n",
    "agent_executor.invoke({\"input\":query})"
   ]
  },
  {
   "cell_type": "code",
   "execution_count": 48,
   "id": "e75756db",
   "metadata": {},
   "outputs": [
    {
     "data": {
      "text/plain": [
       "{'input': 'Is there a potential for non-invasive imaging technologies to replace current diagnostic criteria involving hormonal assessments and ultrasounds in the future?',\n",
       " 'output': 'Non-invasive imaging technologies have the potential to play a significant role in the diagnosis of Polycystic Ovary Syndrome (PCOS) by potentially replacing current diagnostic criteria involving hormonal assessments and ultrasounds. Here are some key points related to this topic:\\n\\n1. **Ultrasound and Polycystic Ovarian Morphology (PCOM):**\\n   - Ultrasound criteria for diagnosing PCOS may not be suitable for adolescents with a gynecological age of less than 8 years due to limitations in peak ovarian maturity, rising anti-mullerian levels, and the high incidence of multi-follicular ovaries.\\n   - In adults with features of hyperandrogenism and ovulatory dysfunction meeting PCOS diagnostic criteria, ultrasound may not be necessary for diagnosis.\\n   - Technology advancements in the last decade support an increase in using follicle number per ovary (FNPO) as a key diagnostic criterion for PCOM in PCOS diagnosis.\\n\\n2. **Anti-Mullerian Hormone (AMH) in the Diagnosis of PCOS:**\\n   - Serum AMH has been proposed as an alternative marker of PCOM in the diagnosis of PCOS, especially in cases where ultrasound may not be suitable.\\n   - AMH levels are significantly higher in women with PCOS compared to normal ovulatory women, showing correlations with antral follicle count on ultrasound.\\n\\n3. **Recommendations:**\\n   - FNPO is considered the most effective ultrasound marker to detect PCOM in adults for the diagnosis of PCOS.\\n\\nWhile non-invasive imaging technologies show promise in the future of PCOS diagnosis, further research and advancements are needed to enhance their diagnostic accuracy and reliability.'}"
      ]
     },
     "execution_count": 48,
     "metadata": {},
     "output_type": "execute_result"
    }
   ],
   "source": [
    "query = \"Is there a potential for non-invasive imaging technologies to replace current diagnostic criteria involving hormonal assessments and ultrasounds in the future?\"\n",
    "agent_executor.invoke({\"input\":query})"
   ]
  },
  {
   "cell_type": "code",
   "execution_count": 49,
   "id": "cb9741cc",
   "metadata": {},
   "outputs": [
    {
     "data": {
      "text/plain": [
       "{'input': 'How effective are peer support groups, facilitated through social media in helping women with PCOS?',\n",
       " 'output': 'Peer support groups facilitated through social media can be effective in helping women with PCOS by providing a platform for social and peer support. These groups can reduce stress, increase confidence, and provide a sense of security for women with PCOS. Additionally, peer support can play a role in improving mental health outcomes such as anxiety and depression commonly associated with PCOS. It is important to note that peer support groups should be complemented with other interventions like psychological therapy and exercise interventions for a comprehensive approach to managing PCOS. \\n\\nIf you need more detailed information or specific studies on the effectiveness of peer support groups facilitated through social media for women with PCOS, please let me know.'}"
      ]
     },
     "execution_count": 49,
     "metadata": {},
     "output_type": "execute_result"
    }
   ],
   "source": [
    "query = \"How effective are peer support groups, facilitated through social media in helping women with PCOS?\"\n",
    "agent_executor.invoke({\"input\":query})"
   ]
  },
  {
   "cell_type": "code",
   "execution_count": 50,
   "id": "392421c8",
   "metadata": {},
   "outputs": [
    {
     "data": {
      "text/plain": [
       "{'input': 'Are there any specific gene-environment interactions that influence the psychological symptoms in PCOS?',\n",
       " 'output': 'The search results indicate that women with PCOS have a higher prevalence of clinically significant symptoms of depression, anxiety, and eating disorders. These psychological symptoms can impact quality of life and relationships. Hormonal medications used in PCOS treatment can also influence mood. Psychosexual dysfunction, which can be influenced by psychological factors like depression and negative body image, is a common issue in PCOS.\\n\\nEffective treatments such as cognitive behavioral therapy (CBT), behavioral therapy, and interpersonal therapy are available for managing these psychological symptoms. Additionally, social and family support can play a crucial role in managing PCOS-related psychological challenges.\\n\\nFurther details and specific gene-environment interactions influencing psychological symptoms in PCOS may require more targeted research or consultation with a healthcare provider familiar with the latest findings in this area.'}"
      ]
     },
     "execution_count": 50,
     "metadata": {},
     "output_type": "execute_result"
    }
   ],
   "source": [
    "query = \"Are there any specific gene-environment interactions that influence the psychological symptoms in PCOS?\"\n",
    "agent_executor.invoke({\"input\":query})"
   ]
  },
  {
   "cell_type": "code",
   "execution_count": 51,
   "id": "6b7b5635",
   "metadata": {},
   "outputs": [
    {
     "data": {
      "text/plain": [
       "{'input': 'What is the potential for using artificial intelligence in screening and managing psychological features in PCOS? ',\n",
       " 'output': 'Artificial intelligence (AI) has the potential to play a significant role in screening and managing psychological features in Polycystic Ovary Syndrome (PCOS). Here are some key points based on the search results:\\n\\n1. **Psychological Therapy**: Women with PCOS have a higher prevalence of symptoms like depression, anxiety, and eating disorders. Treatments such as cognitive behavioral therapy (CBT) and behavioral therapy have shown improvements in mental health conditions. Telehealth and online programs with therapist assistance have also been effective.\\n\\n2. **Screening and Recommendations**: Healthcare professionals should be aware of the high prevalence of depressive and anxiety symptoms in individuals with PCOS. Screening for depression and anxiety using validated tools is recommended. If moderate or severe symptoms are detected, appropriate assessment, referral, or treatment should be provided.\\n\\n3. **Psychosexual Function**: Routine screening for depressive and anxiety symptoms in women with PCOS is crucial to address gaps in care, improve well-being, and facilitate appropriate referral and care. While the optimal timing and interval for screening is unknown, a pragmatic approach is recommended.\\n\\nIn summary, AI can potentially assist in the screening, assessment, and management of psychological features in PCOS by providing tools for early detection, personalized treatment recommendations, and monitoring of mental health conditions.'}"
      ]
     },
     "execution_count": 51,
     "metadata": {},
     "output_type": "execute_result"
    }
   ],
   "source": [
    "query = \"What is the potential for using artificial intelligence in screening and managing psychological features in PCOS? \"\n",
    "agent_executor.invoke({\"input\":query})"
   ]
  },
  {
   "cell_type": "code",
   "execution_count": 52,
   "id": "10697ce7",
   "metadata": {},
   "outputs": [
    {
     "data": {
      "text/plain": [
       "{'input': 'What are the effects of caffeine and alcohol intake on PCOS symptoms?',\n",
       " 'output': 'The effects of caffeine intake on PCOS symptoms include a higher intake of saturated fats, monounsaturated fats, oleic acid, fluorine, sucrose, and caffeine itself, and a lower intake of vitamins A, B, B, B, C, and D, potassium, proteins, carbohydrates, cholesterols, docosahexaenoic acid, potassium, carotenes, lutein, beta-cryptoxanthin, lycopene, calcium, iron, thiamine, riboflavin, niacin, tetra- and dihydrofolate, biotin, phosphorus, magnesium, zinc, copper, and fiber.\\n\\nThe effects of alcohol intake on PCOS symptoms were also studied, and the results suggest that alcohol intake frequency may have an impact on PCOS features. However, after adjusting for factors like BMI, SHBG, fasting insulin, and testosterone, the effect sizes were significantly reduced. The study did not find strong evidence supporting a causal relationship between gut microbiota and PCOS features at the genetic level.\\n\\nIf you need more detailed information or have any specific questions, feel free to ask!'}"
      ]
     },
     "execution_count": 52,
     "metadata": {},
     "output_type": "execute_result"
    }
   ],
   "source": [
    "query = \"What are the effects of caffeine and alcohol intake on PCOS symptoms?\"\n",
    "agent_executor.invoke({\"input\":query})"
   ]
  },
  {
   "cell_type": "code",
   "execution_count": 53,
   "id": "ee450c1f",
   "metadata": {},
   "outputs": [
    {
     "data": {
      "text/plain": [
       "{'input': 'Are there specific micronutrients or supplements that should be considered in the diet of women with PCOS?',\n",
       " 'output': \"For women with PCOS, here are some recommendations regarding diet, exercise interventions, and supplements based on the search results:\\n\\n### Diet Recommendations:\\n- There is no evidence to support any one type of diet composition over another for women with PCOS.\\n- Any diet consistent with population guidelines for healthy eating will have health benefits.\\n- Healthcare professionals should advise sustainable healthy eating tailored to individual preferences and goals.\\n- Tailoring dietary changes to food preferences and avoiding unduly restrictive diets is important.\\n- Barriers and facilitators to optimize engagement and adherence to dietary changes should be discussed.\\n- Referral to allied healthcare professionals may be considered for support with optimizing the diet.\\n\\n### Exercise Interventions:\\n- Inositol (in any form) could be considered in women with PCOS based on individual preferences and values.\\n- Metformin should be considered over inositol for hirsutism and central adiposity.\\n- Women taking inositol and other complementary therapies are encouraged to advise their health professional.\\n\\n### Pregnancy and Reproductive Health:\\n- Women with PCOS should be counseled on the adverse impact of excess weight on clinical pregnancy, miscarriage, and live birth rates.\\n- Preconception care should include considerations for weight, blood pressure, diet, exercise, and mental health to improve reproductive and pregnancy outcomes.\\n- Adolescents and women with PCOS should receive education on optimizing reproductive health and healthy lifestyle practices.\\n\\nIt's important to consult with a healthcare professional for personalized recommendations and guidance tailored to individual needs and preferences.\"}"
      ]
     },
     "execution_count": 53,
     "metadata": {},
     "output_type": "execute_result"
    }
   ],
   "source": [
    "query = \"Are there specific micronutrients or supplements that should be considered in the diet of women with PCOS?\"\n",
    "agent_executor.invoke({\"input\":query})"
   ]
  },
  {
   "cell_type": "code",
   "execution_count": 54,
   "id": "43cce290",
   "metadata": {},
   "outputs": [
    {
     "data": {
      "text/plain": [
       "{'input': 'What are the emerging trends in nutrigenomics that could impact dietary recommendations for PCOS?',\n",
       " 'output': 'The emerging trends in nutrigenomics that could impact dietary recommendations for PCOS include the following key points:\\n\\n1. **Dietary Recommendations**:\\n   - Diets with a range of macronutrient compositions could be recommended for women with PCOS.\\n   - Quality of carbohydrates in the diet is important, with a focus on high-fiber, lower glycemic index carbohydrate foods like whole grains, pulses/legumes, and fruits.\\n   - There is no evidence to support any one type of diet composition over another for various outcomes.\\n   - Healthcare professionals should advise sustainable healthy eating tailored to individual preferences and goals.\\n\\n2. **Exercise Interventions**:\\n   - Prevention of weight gain is vital for women with PCOS, given the challenges with weight loss and maintenance.\\n   - Prioritizing exercise interventions can help in managing weight and improving clinical features of PCOS.\\n\\n3. **Weight Stigma**:\\n   - There is a lack of consistent evidence of physiological or behavioral lifestyle differences related to weight in women with PCOS compared to those without PCOS.\\n   - Lifelong healthy lifestyle strategies and prevention of excess weight gain are important for women with PCOS.\\n\\nOverall, the focus is on individualized dietary recommendations, sustainable healthy eating, exercise interventions, and addressing weight stigma to support women with PCOS in managing their condition effectively.'}"
      ]
     },
     "execution_count": 54,
     "metadata": {},
     "output_type": "execute_result"
    }
   ],
   "source": [
    "query = \"What are the emerging trends in nutrigenomics that could impact dietary recommendations for PCOS?\"\n",
    "agent_executor.invoke({\"input\":query})"
   ]
  },
  {
   "cell_type": "code",
   "execution_count": 57,
   "id": "f87a6b58",
   "metadata": {},
   "outputs": [
    {
     "data": {
      "text/plain": [
       "{'input': 'Are there any novel biomarkers under investigation that could improve the management of dermatologic features in PCOS?',\n",
       " 'output': 'Studies have focused on clinical and biochemical markers of hyperandrogenism in PCOS, which impact dermatologic features like hirsutism, acne, and female pattern hair loss. Clinical hyperandrogenism, assessed through tools like the Ferriman Gallwey score, is crucial for diagnosis and treatment. Hirsutism alone can predict biochemical hyperandrogenism and PCOS in adults. Biochemical hyperandrogenism, challenging to assess due to methodological variations, is a key diagnostic feature affecting 60-100% of individuals with PCOS.\\n\\nRegarding novel biomarkers, the research emphasizes the importance of accurate diagnosis through clinical and biochemical assessments rather than specific novel biomarkers. The presence of hirsutism is a strong predictor of PCOS, while female pattern hair loss and acne alone are weaker indicators. Biochemical hyperandrogenism, assessed through various methods like total testosterone measurements, plays a significant role in diagnosing PCOS.\\n\\nIn summary, while there is ongoing research on markers of hyperandrogenism in PCOS, the focus remains on improving the accuracy of clinical and biochemical assessments rather than identifying specific novel biomarkers for dermatologic features in PCOS.'}"
      ]
     },
     "execution_count": 57,
     "metadata": {},
     "output_type": "execute_result"
    }
   ],
   "source": [
    "query = \"Are there any novel biomarkers under investigation that could improve the management of dermatologic features in PCOS?\"\n",
    "agent_executor.invoke({\"input\":query})"
   ]
  },
  {
   "cell_type": "code",
   "execution_count": 58,
   "id": "5d884623",
   "metadata": {},
   "outputs": [
    {
     "data": {
      "text/plain": [
       "{'input': 'Are there any ongoing clinical trials focusing on immune-modulating treatments for skin manifestations of PCOS? ',\n",
       " 'output': \"I couldn't find specific ongoing clinical trials focusing on immune-modulating treatments for skin manifestations of PCOS. However, I found information on the use of anti-androgen pharmacological agents and recommendations for managing skin manifestations of PCOS. Here are some key points:\\n\\n- Anti-androgen pharmacological agents could be considered to treat hirsutism in women with PCOS if there is a suboptimal response to other therapies.\\n- Anti-androgens in combination with COCP could be trialed for female pattern hair loss in PCOS, despite limited evidence in this population.\\n- Healthcare professionals should educate women about the risks of using anti-androgens during pregnancy to prevent adverse effects on male fetuses.\\n- Laser and light therapies may be beneficial for reducing facial hirsutism and improving quality of life in women with PCOS.\\n- Adverse effects of these therapies are limited when performed by experienced providers.\\n\\nIf you need more specific information or assistance, feel free to ask!\"}"
      ]
     },
     "execution_count": 58,
     "metadata": {},
     "output_type": "execute_result"
    }
   ],
   "source": [
    "query = \"Are there any ongoing clinical trials focusing on immune-modulating treatments for skin manifestations of PCOS? \"\n",
    "agent_executor.invoke({\"input\":query})"
   ]
  },
  {
   "cell_type": "code",
   "execution_count": 59,
   "id": "3151b4da",
   "metadata": {},
   "outputs": [
    {
     "data": {
      "text/plain": [
       "{'input': 'What specific genetic polymorphisms in PCOS patients are linked to infertility, and how can targeted therapies be developed based on these findings?',\n",
       " 'output': 'The search results indicate that women with PCOS have significantly higher odds of experiencing infertility-related complications such as miscarriage, gestational diabetes, gestational hypertension, pre-eclampsia, preterm birth, low birth weight, intrauterine growth restriction, and caesarean section. These outcomes are influenced by factors like BMI, metabolic disturbances, and hyperandrogenism.\\n\\nSpecific genetic polymorphisms in PCOS patients linked to infertility are not explicitly mentioned in the search results. However, it is known that PCOS is a complex disorder with a genetic component, and several genetic variants have been associated with PCOS and its related symptoms, including infertility.\\n\\nTo develop targeted therapies based on these findings, further research is needed to identify the specific genetic polymorphisms in PCOS patients that are directly linked to infertility. Once these genetic markers are identified, personalized treatment approaches can be developed to target the underlying genetic causes of infertility in PCOS patients. This may involve precision medicine strategies such as gene therapy, pharmacogenomics, or targeted drug development to address the specific genetic factors contributing to infertility in PCOS.'}"
      ]
     },
     "execution_count": 59,
     "metadata": {},
     "output_type": "execute_result"
    }
   ],
   "source": [
    "query = \"What specific genetic polymorphisms in PCOS patients are linked to infertility, and how can targeted therapies be developed based on these findings?\"\n",
    "agent_executor.invoke({\"input\":query})"
   ]
  },
  {
   "cell_type": "code",
   "execution_count": 60,
   "id": "acdb7bd2",
   "metadata": {},
   "outputs": [
    {
     "data": {
      "text/plain": [
       "{'input': 'What role do stem cells play in potential future treatments for infertility in PCOS patients?',\n",
       " 'output': 'Stem cells have not been specifically mentioned in the search results related to the role of stem cells in potential future treatments for infertility in PCOS patients. However, the search results provide information on assisted reproductive technology (ART) therapies, including in vitro fertilization (IVF) and in vitro maturation (IVM), as potential treatment options for infertility in PCOS patients.\\n\\nIVF and ICSI could be considered in women with PCOS as an alternative to a stimulated IVF/ICSI cycle, where an embryo is frozen and replaced in a subsequent embryo transfer cycle. This approach acknowledges the lower risk of ovarian hyperstimulation syndrome but may result in a lower cumulative live birth rate. In the absence of an absolute indication for IVF/ICSI, IVF could be offered to women with PCOS and anovulatory infertility if first- or second-line ovulation induction therapies have failed.\\n\\nOverall, the search results emphasize the effectiveness of IVF in women with anovulatory PCOS and the importance of counseling patients about the increased risk of ovarian hyperstimulation syndrome when undergoing IVF/ICSI treatment. The decision to pursue IVF should be based on individual circumstances, including access, risks, and costs, with healthcare professionals presenting the benefits and risks to enable an informed decision.\\n\\nIf you would like more specific information on the role of stem cells in infertility treatment for PCOS patients, further research or a targeted search may be necessary.'}"
      ]
     },
     "execution_count": 60,
     "metadata": {},
     "output_type": "execute_result"
    }
   ],
   "source": [
    "query = \"What role do stem cells play in potential future treatments for infertility in PCOS patients?\"\n",
    "agent_executor.invoke({\"input\":query})"
   ]
  }
 ],
 "metadata": {
  "kernelspec": {
   "display_name": "Python 3 (ipykernel)",
   "language": "python",
   "name": "python3"
  },
  "language_info": {
   "codemirror_mode": {
    "name": "ipython",
    "version": 3
   },
   "file_extension": ".py",
   "mimetype": "text/x-python",
   "name": "python",
   "nbconvert_exporter": "python",
   "pygments_lexer": "ipython3",
   "version": "3.11.4"
  }
 },
 "nbformat": 4,
 "nbformat_minor": 5
}
